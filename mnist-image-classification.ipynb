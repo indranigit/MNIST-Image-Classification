{
 "cells": [
  {
   "cell_type": "code",
   "execution_count": 1,
   "metadata": {
    "_cell_guid": "b1076dfc-b9ad-4769-8c92-a6c4dae69d19",
    "_uuid": "8f2839f25d086af736a60e9eeb907d3b93b6e0e5",
    "execution": {
     "iopub.execute_input": "2021-01-15T06:23:21.144776Z",
     "iopub.status.busy": "2021-01-15T06:23:21.144029Z",
     "iopub.status.idle": "2021-01-15T06:23:21.157536Z",
     "shell.execute_reply": "2021-01-15T06:23:21.158199Z"
    },
    "papermill": {
     "duration": 0.037461,
     "end_time": "2021-01-15T06:23:21.158410",
     "exception": false,
     "start_time": "2021-01-15T06:23:21.120949",
     "status": "completed"
    },
    "tags": []
   },
   "outputs": [
    {
     "name": "stdout",
     "output_type": "stream",
     "text": [
      "/kaggle/input/mnist-in-csv/mnist_test.csv\n",
      "/kaggle/input/mnist-in-csv/mnist_train.csv\n"
     ]
    }
   ],
   "source": [
    "# This Python 3 environment comes with many helpful analytics libraries installed\n",
    "# It is defined by the kaggle/python Docker image: https://github.com/kaggle/docker-python\n",
    "# For example, here's several helpful packages to load\n",
    "\n",
    "import numpy as np # linear algebra\n",
    "import pandas as pd # data processing, CSV file I/O (e.g. pd.read_csv)\n",
    "\n",
    "# Input data files are available in the read-only \"../input/\" directory\n",
    "# For example, running this (by clicking run or pressing Shift+Enter) will list all files under the input directory\n",
    "\n",
    "import os\n",
    "for dirname, _, filenames in os.walk('/kaggle/input'):\n",
    "    for filename in filenames:\n",
    "        print(os.path.join(dirname, filename))\n",
    "\n",
    "# You can write up to 20GB to the current directory (/kaggle/working/) that gets preserved as output when you create a version using \"Save & Run All\" \n",
    "# You can also write temporary files to /kaggle/temp/, but they won't be saved outside of the current session"
   ]
  },
  {
   "cell_type": "code",
   "execution_count": 2,
   "metadata": {
    "_cell_guid": "79c7e3d0-c299-4dcb-8224-4455121ee9b0",
    "_uuid": "d629ff2d2480ee46fbb7e2d37f6b5fab8052498a",
    "execution": {
     "iopub.execute_input": "2021-01-15T06:23:21.196633Z",
     "iopub.status.busy": "2021-01-15T06:23:21.195940Z",
     "iopub.status.idle": "2021-01-15T06:23:34.409196Z",
     "shell.execute_reply": "2021-01-15T06:23:34.408446Z"
    },
    "papermill": {
     "duration": 13.234443,
     "end_time": "2021-01-15T06:23:34.409327",
     "exception": false,
     "start_time": "2021-01-15T06:23:21.174884",
     "status": "completed"
    },
    "tags": []
   },
   "outputs": [
    {
     "name": "stdout",
     "output_type": "stream",
     "text": [
      "Downloading data from https://storage.googleapis.com/tensorflow/tf-keras-datasets/mnist.npz\n",
      "11493376/11490434 [==============================] - 0s 0us/step\n"
     ]
    }
   ],
   "source": [
    "import tensorflow as tf\n",
    "data=pd.read_csv(\"/kaggle/input/mnist-in-csv/mnist_train.csv\")\n",
    "(X_train,y_train),(X_test,y_test)= tf.keras.datasets.mnist.load_data()"
   ]
  },
  {
   "cell_type": "code",
   "execution_count": 3,
   "metadata": {
    "execution": {
     "iopub.execute_input": "2021-01-15T06:23:34.451833Z",
     "iopub.status.busy": "2021-01-15T06:23:34.451201Z",
     "iopub.status.idle": "2021-01-15T06:23:34.472730Z",
     "shell.execute_reply": "2021-01-15T06:23:34.473218Z"
    },
    "papermill": {
     "duration": 0.047784,
     "end_time": "2021-01-15T06:23:34.473393",
     "exception": false,
     "start_time": "2021-01-15T06:23:34.425609",
     "status": "completed"
    },
    "tags": []
   },
   "outputs": [
    {
     "data": {
      "text/html": [
       "<div>\n",
       "<style scoped>\n",
       "    .dataframe tbody tr th:only-of-type {\n",
       "        vertical-align: middle;\n",
       "    }\n",
       "\n",
       "    .dataframe tbody tr th {\n",
       "        vertical-align: top;\n",
       "    }\n",
       "\n",
       "    .dataframe thead th {\n",
       "        text-align: right;\n",
       "    }\n",
       "</style>\n",
       "<table border=\"1\" class=\"dataframe\">\n",
       "  <thead>\n",
       "    <tr style=\"text-align: right;\">\n",
       "      <th></th>\n",
       "      <th>label</th>\n",
       "      <th>1x1</th>\n",
       "      <th>1x2</th>\n",
       "      <th>1x3</th>\n",
       "      <th>1x4</th>\n",
       "      <th>1x5</th>\n",
       "      <th>1x6</th>\n",
       "      <th>1x7</th>\n",
       "      <th>1x8</th>\n",
       "      <th>1x9</th>\n",
       "      <th>...</th>\n",
       "      <th>28x19</th>\n",
       "      <th>28x20</th>\n",
       "      <th>28x21</th>\n",
       "      <th>28x22</th>\n",
       "      <th>28x23</th>\n",
       "      <th>28x24</th>\n",
       "      <th>28x25</th>\n",
       "      <th>28x26</th>\n",
       "      <th>28x27</th>\n",
       "      <th>28x28</th>\n",
       "    </tr>\n",
       "  </thead>\n",
       "  <tbody>\n",
       "    <tr>\n",
       "      <th>0</th>\n",
       "      <td>5</td>\n",
       "      <td>0</td>\n",
       "      <td>0</td>\n",
       "      <td>0</td>\n",
       "      <td>0</td>\n",
       "      <td>0</td>\n",
       "      <td>0</td>\n",
       "      <td>0</td>\n",
       "      <td>0</td>\n",
       "      <td>0</td>\n",
       "      <td>...</td>\n",
       "      <td>0</td>\n",
       "      <td>0</td>\n",
       "      <td>0</td>\n",
       "      <td>0</td>\n",
       "      <td>0</td>\n",
       "      <td>0</td>\n",
       "      <td>0</td>\n",
       "      <td>0</td>\n",
       "      <td>0</td>\n",
       "      <td>0</td>\n",
       "    </tr>\n",
       "    <tr>\n",
       "      <th>1</th>\n",
       "      <td>0</td>\n",
       "      <td>0</td>\n",
       "      <td>0</td>\n",
       "      <td>0</td>\n",
       "      <td>0</td>\n",
       "      <td>0</td>\n",
       "      <td>0</td>\n",
       "      <td>0</td>\n",
       "      <td>0</td>\n",
       "      <td>0</td>\n",
       "      <td>...</td>\n",
       "      <td>0</td>\n",
       "      <td>0</td>\n",
       "      <td>0</td>\n",
       "      <td>0</td>\n",
       "      <td>0</td>\n",
       "      <td>0</td>\n",
       "      <td>0</td>\n",
       "      <td>0</td>\n",
       "      <td>0</td>\n",
       "      <td>0</td>\n",
       "    </tr>\n",
       "    <tr>\n",
       "      <th>2</th>\n",
       "      <td>4</td>\n",
       "      <td>0</td>\n",
       "      <td>0</td>\n",
       "      <td>0</td>\n",
       "      <td>0</td>\n",
       "      <td>0</td>\n",
       "      <td>0</td>\n",
       "      <td>0</td>\n",
       "      <td>0</td>\n",
       "      <td>0</td>\n",
       "      <td>...</td>\n",
       "      <td>0</td>\n",
       "      <td>0</td>\n",
       "      <td>0</td>\n",
       "      <td>0</td>\n",
       "      <td>0</td>\n",
       "      <td>0</td>\n",
       "      <td>0</td>\n",
       "      <td>0</td>\n",
       "      <td>0</td>\n",
       "      <td>0</td>\n",
       "    </tr>\n",
       "    <tr>\n",
       "      <th>3</th>\n",
       "      <td>1</td>\n",
       "      <td>0</td>\n",
       "      <td>0</td>\n",
       "      <td>0</td>\n",
       "      <td>0</td>\n",
       "      <td>0</td>\n",
       "      <td>0</td>\n",
       "      <td>0</td>\n",
       "      <td>0</td>\n",
       "      <td>0</td>\n",
       "      <td>...</td>\n",
       "      <td>0</td>\n",
       "      <td>0</td>\n",
       "      <td>0</td>\n",
       "      <td>0</td>\n",
       "      <td>0</td>\n",
       "      <td>0</td>\n",
       "      <td>0</td>\n",
       "      <td>0</td>\n",
       "      <td>0</td>\n",
       "      <td>0</td>\n",
       "    </tr>\n",
       "    <tr>\n",
       "      <th>4</th>\n",
       "      <td>9</td>\n",
       "      <td>0</td>\n",
       "      <td>0</td>\n",
       "      <td>0</td>\n",
       "      <td>0</td>\n",
       "      <td>0</td>\n",
       "      <td>0</td>\n",
       "      <td>0</td>\n",
       "      <td>0</td>\n",
       "      <td>0</td>\n",
       "      <td>...</td>\n",
       "      <td>0</td>\n",
       "      <td>0</td>\n",
       "      <td>0</td>\n",
       "      <td>0</td>\n",
       "      <td>0</td>\n",
       "      <td>0</td>\n",
       "      <td>0</td>\n",
       "      <td>0</td>\n",
       "      <td>0</td>\n",
       "      <td>0</td>\n",
       "    </tr>\n",
       "  </tbody>\n",
       "</table>\n",
       "<p>5 rows × 785 columns</p>\n",
       "</div>"
      ],
      "text/plain": [
       "   label  1x1  1x2  1x3  1x4  1x5  1x6  1x7  1x8  1x9  ...  28x19  28x20  \\\n",
       "0      5    0    0    0    0    0    0    0    0    0  ...      0      0   \n",
       "1      0    0    0    0    0    0    0    0    0    0  ...      0      0   \n",
       "2      4    0    0    0    0    0    0    0    0    0  ...      0      0   \n",
       "3      1    0    0    0    0    0    0    0    0    0  ...      0      0   \n",
       "4      9    0    0    0    0    0    0    0    0    0  ...      0      0   \n",
       "\n",
       "   28x21  28x22  28x23  28x24  28x25  28x26  28x27  28x28  \n",
       "0      0      0      0      0      0      0      0      0  \n",
       "1      0      0      0      0      0      0      0      0  \n",
       "2      0      0      0      0      0      0      0      0  \n",
       "3      0      0      0      0      0      0      0      0  \n",
       "4      0      0      0      0      0      0      0      0  \n",
       "\n",
       "[5 rows x 785 columns]"
      ]
     },
     "execution_count": 3,
     "metadata": {},
     "output_type": "execute_result"
    }
   ],
   "source": [
    "\n",
    "data.head()\n"
   ]
  },
  {
   "cell_type": "code",
   "execution_count": 4,
   "metadata": {
    "execution": {
     "iopub.execute_input": "2021-01-15T06:23:34.510490Z",
     "iopub.status.busy": "2021-01-15T06:23:34.509890Z",
     "iopub.status.idle": "2021-01-15T06:23:34.526402Z",
     "shell.execute_reply": "2021-01-15T06:23:34.526906Z"
    },
    "papermill": {
     "duration": 0.036805,
     "end_time": "2021-01-15T06:23:34.527093",
     "exception": false,
     "start_time": "2021-01-15T06:23:34.490288",
     "status": "completed"
    },
    "tags": []
   },
   "outputs": [
    {
     "data": {
      "text/html": [
       "<div>\n",
       "<style scoped>\n",
       "    .dataframe tbody tr th:only-of-type {\n",
       "        vertical-align: middle;\n",
       "    }\n",
       "\n",
       "    .dataframe tbody tr th {\n",
       "        vertical-align: top;\n",
       "    }\n",
       "\n",
       "    .dataframe thead th {\n",
       "        text-align: right;\n",
       "    }\n",
       "</style>\n",
       "<table border=\"1\" class=\"dataframe\">\n",
       "  <thead>\n",
       "    <tr style=\"text-align: right;\">\n",
       "      <th></th>\n",
       "      <th>label</th>\n",
       "      <th>1x1</th>\n",
       "      <th>1x2</th>\n",
       "      <th>1x3</th>\n",
       "      <th>1x4</th>\n",
       "      <th>1x5</th>\n",
       "      <th>1x6</th>\n",
       "      <th>1x7</th>\n",
       "      <th>1x8</th>\n",
       "      <th>1x9</th>\n",
       "      <th>...</th>\n",
       "      <th>28x19</th>\n",
       "      <th>28x20</th>\n",
       "      <th>28x21</th>\n",
       "      <th>28x22</th>\n",
       "      <th>28x23</th>\n",
       "      <th>28x24</th>\n",
       "      <th>28x25</th>\n",
       "      <th>28x26</th>\n",
       "      <th>28x27</th>\n",
       "      <th>28x28</th>\n",
       "    </tr>\n",
       "  </thead>\n",
       "  <tbody>\n",
       "    <tr>\n",
       "      <th>59995</th>\n",
       "      <td>8</td>\n",
       "      <td>0</td>\n",
       "      <td>0</td>\n",
       "      <td>0</td>\n",
       "      <td>0</td>\n",
       "      <td>0</td>\n",
       "      <td>0</td>\n",
       "      <td>0</td>\n",
       "      <td>0</td>\n",
       "      <td>0</td>\n",
       "      <td>...</td>\n",
       "      <td>0</td>\n",
       "      <td>0</td>\n",
       "      <td>0</td>\n",
       "      <td>0</td>\n",
       "      <td>0</td>\n",
       "      <td>0</td>\n",
       "      <td>0</td>\n",
       "      <td>0</td>\n",
       "      <td>0</td>\n",
       "      <td>0</td>\n",
       "    </tr>\n",
       "    <tr>\n",
       "      <th>59996</th>\n",
       "      <td>3</td>\n",
       "      <td>0</td>\n",
       "      <td>0</td>\n",
       "      <td>0</td>\n",
       "      <td>0</td>\n",
       "      <td>0</td>\n",
       "      <td>0</td>\n",
       "      <td>0</td>\n",
       "      <td>0</td>\n",
       "      <td>0</td>\n",
       "      <td>...</td>\n",
       "      <td>0</td>\n",
       "      <td>0</td>\n",
       "      <td>0</td>\n",
       "      <td>0</td>\n",
       "      <td>0</td>\n",
       "      <td>0</td>\n",
       "      <td>0</td>\n",
       "      <td>0</td>\n",
       "      <td>0</td>\n",
       "      <td>0</td>\n",
       "    </tr>\n",
       "    <tr>\n",
       "      <th>59997</th>\n",
       "      <td>5</td>\n",
       "      <td>0</td>\n",
       "      <td>0</td>\n",
       "      <td>0</td>\n",
       "      <td>0</td>\n",
       "      <td>0</td>\n",
       "      <td>0</td>\n",
       "      <td>0</td>\n",
       "      <td>0</td>\n",
       "      <td>0</td>\n",
       "      <td>...</td>\n",
       "      <td>0</td>\n",
       "      <td>0</td>\n",
       "      <td>0</td>\n",
       "      <td>0</td>\n",
       "      <td>0</td>\n",
       "      <td>0</td>\n",
       "      <td>0</td>\n",
       "      <td>0</td>\n",
       "      <td>0</td>\n",
       "      <td>0</td>\n",
       "    </tr>\n",
       "    <tr>\n",
       "      <th>59998</th>\n",
       "      <td>6</td>\n",
       "      <td>0</td>\n",
       "      <td>0</td>\n",
       "      <td>0</td>\n",
       "      <td>0</td>\n",
       "      <td>0</td>\n",
       "      <td>0</td>\n",
       "      <td>0</td>\n",
       "      <td>0</td>\n",
       "      <td>0</td>\n",
       "      <td>...</td>\n",
       "      <td>0</td>\n",
       "      <td>0</td>\n",
       "      <td>0</td>\n",
       "      <td>0</td>\n",
       "      <td>0</td>\n",
       "      <td>0</td>\n",
       "      <td>0</td>\n",
       "      <td>0</td>\n",
       "      <td>0</td>\n",
       "      <td>0</td>\n",
       "    </tr>\n",
       "    <tr>\n",
       "      <th>59999</th>\n",
       "      <td>8</td>\n",
       "      <td>0</td>\n",
       "      <td>0</td>\n",
       "      <td>0</td>\n",
       "      <td>0</td>\n",
       "      <td>0</td>\n",
       "      <td>0</td>\n",
       "      <td>0</td>\n",
       "      <td>0</td>\n",
       "      <td>0</td>\n",
       "      <td>...</td>\n",
       "      <td>0</td>\n",
       "      <td>0</td>\n",
       "      <td>0</td>\n",
       "      <td>0</td>\n",
       "      <td>0</td>\n",
       "      <td>0</td>\n",
       "      <td>0</td>\n",
       "      <td>0</td>\n",
       "      <td>0</td>\n",
       "      <td>0</td>\n",
       "    </tr>\n",
       "  </tbody>\n",
       "</table>\n",
       "<p>5 rows × 785 columns</p>\n",
       "</div>"
      ],
      "text/plain": [
       "       label  1x1  1x2  1x3  1x4  1x5  1x6  1x7  1x8  1x9  ...  28x19  28x20  \\\n",
       "59995      8    0    0    0    0    0    0    0    0    0  ...      0      0   \n",
       "59996      3    0    0    0    0    0    0    0    0    0  ...      0      0   \n",
       "59997      5    0    0    0    0    0    0    0    0    0  ...      0      0   \n",
       "59998      6    0    0    0    0    0    0    0    0    0  ...      0      0   \n",
       "59999      8    0    0    0    0    0    0    0    0    0  ...      0      0   \n",
       "\n",
       "       28x21  28x22  28x23  28x24  28x25  28x26  28x27  28x28  \n",
       "59995      0      0      0      0      0      0      0      0  \n",
       "59996      0      0      0      0      0      0      0      0  \n",
       "59997      0      0      0      0      0      0      0      0  \n",
       "59998      0      0      0      0      0      0      0      0  \n",
       "59999      0      0      0      0      0      0      0      0  \n",
       "\n",
       "[5 rows x 785 columns]"
      ]
     },
     "execution_count": 4,
     "metadata": {},
     "output_type": "execute_result"
    }
   ],
   "source": [
    "data.tail()"
   ]
  },
  {
   "cell_type": "code",
   "execution_count": 5,
   "metadata": {
    "execution": {
     "iopub.execute_input": "2021-01-15T06:23:34.567034Z",
     "iopub.status.busy": "2021-01-15T06:23:34.566328Z",
     "iopub.status.idle": "2021-01-15T06:23:34.602874Z",
     "shell.execute_reply": "2021-01-15T06:23:34.603456Z"
    },
    "papermill": {
     "duration": 0.058463,
     "end_time": "2021-01-15T06:23:34.603637",
     "exception": false,
     "start_time": "2021-01-15T06:23:34.545174",
     "status": "completed"
    },
    "tags": []
   },
   "outputs": [
    {
     "name": "stdout",
     "output_type": "stream",
     "text": [
      "<class 'pandas.core.frame.DataFrame'>\n",
      "RangeIndex: 60000 entries, 0 to 59999\n",
      "Columns: 785 entries, label to 28x28\n",
      "dtypes: int64(785)\n",
      "memory usage: 359.3 MB\n"
     ]
    }
   ],
   "source": [
    "data.info()"
   ]
  },
  {
   "cell_type": "code",
   "execution_count": 6,
   "metadata": {
    "execution": {
     "iopub.execute_input": "2021-01-15T06:23:34.643513Z",
     "iopub.status.busy": "2021-01-15T06:23:34.642466Z",
     "iopub.status.idle": "2021-01-15T06:23:34.648296Z",
     "shell.execute_reply": "2021-01-15T06:23:34.648717Z"
    },
    "papermill": {
     "duration": 0.027328,
     "end_time": "2021-01-15T06:23:34.648889",
     "exception": false,
     "start_time": "2021-01-15T06:23:34.621561",
     "status": "completed"
    },
    "tags": []
   },
   "outputs": [
    {
     "data": {
      "text/plain": [
       "(60000, 28, 28)"
      ]
     },
     "execution_count": 6,
     "metadata": {},
     "output_type": "execute_result"
    }
   ],
   "source": [
    "X_train.shape"
   ]
  },
  {
   "cell_type": "markdown",
   "metadata": {
    "papermill": {
     "duration": 0.017686,
     "end_time": "2021-01-15T06:23:34.685820",
     "exception": false,
     "start_time": "2021-01-15T06:23:34.668134",
     "status": "completed"
    },
    "tags": []
   },
   "source": [
    "*60000 represents the number of images in train dataset and 28x28 is the size of images in pixel*"
   ]
  },
  {
   "cell_type": "code",
   "execution_count": 7,
   "metadata": {
    "execution": {
     "iopub.execute_input": "2021-01-15T06:23:34.727500Z",
     "iopub.status.busy": "2021-01-15T06:23:34.726432Z",
     "iopub.status.idle": "2021-01-15T06:23:34.736111Z",
     "shell.execute_reply": "2021-01-15T06:23:34.736573Z"
    },
    "papermill": {
     "duration": 0.031965,
     "end_time": "2021-01-15T06:23:34.736750",
     "exception": false,
     "start_time": "2021-01-15T06:23:34.704785",
     "status": "completed"
    },
    "tags": []
   },
   "outputs": [
    {
     "data": {
      "text/plain": [
       "array([5, 0, 4, 1, 9, 2, 1, 3, 1, 4, 3, 5, 3, 6, 1, 7, 2, 8, 6, 9, 4, 0,\n",
       "       9, 1, 1, 2, 4, 3, 2, 7, 3, 8, 6, 9, 0, 5, 6, 0, 7, 6, 1, 8, 7, 9,\n",
       "       3, 9, 8, 5, 9, 3], dtype=uint8)"
      ]
     },
     "execution_count": 7,
     "metadata": {},
     "output_type": "execute_result"
    }
   ],
   "source": [
    "y_train[:50]"
   ]
  },
  {
   "cell_type": "code",
   "execution_count": 8,
   "metadata": {
    "execution": {
     "iopub.execute_input": "2021-01-15T06:23:34.778884Z",
     "iopub.status.busy": "2021-01-15T06:23:34.777487Z",
     "iopub.status.idle": "2021-01-15T06:23:34.787244Z",
     "shell.execute_reply": "2021-01-15T06:23:34.787706Z"
    },
    "papermill": {
     "duration": 0.032698,
     "end_time": "2021-01-15T06:23:34.787900",
     "exception": false,
     "start_time": "2021-01-15T06:23:34.755202",
     "status": "completed"
    },
    "tags": []
   },
   "outputs": [
    {
     "data": {
      "text/plain": [
       "1    6742\n",
       "7    6265\n",
       "3    6131\n",
       "2    5958\n",
       "9    5949\n",
       "0    5923\n",
       "6    5918\n",
       "8    5851\n",
       "4    5842\n",
       "5    5421\n",
       "Name: 0, dtype: int64"
      ]
     },
     "execution_count": 8,
     "metadata": {},
     "output_type": "execute_result"
    }
   ],
   "source": [
    "L=pd.DataFrame(y_train)\n",
    "L[0].value_counts() \n",
    "# to check the number of unique values present( arranged in descending order such that first element is the most frequently occuring element.)"
   ]
  },
  {
   "cell_type": "code",
   "execution_count": 9,
   "metadata": {
    "execution": {
     "iopub.execute_input": "2021-01-15T06:23:34.830372Z",
     "iopub.status.busy": "2021-01-15T06:23:34.829303Z",
     "iopub.status.idle": "2021-01-15T06:23:35.039532Z",
     "shell.execute_reply": "2021-01-15T06:23:35.038931Z"
    },
    "papermill": {
     "duration": 0.232775,
     "end_time": "2021-01-15T06:23:35.039669",
     "exception": false,
     "start_time": "2021-01-15T06:23:34.806894",
     "status": "completed"
    },
    "tags": []
   },
   "outputs": [
    {
     "name": "stdout",
     "output_type": "stream",
     "text": [
      "8\n"
     ]
    },
    {
     "data": {
      "text/plain": [
       "<matplotlib.image.AxesImage at 0x7fb80862b890>"
      ]
     },
     "execution_count": 9,
     "metadata": {},
     "output_type": "execute_result"
    },
    {
     "data": {
      "image/png": "[encoded data removed]",
      "text/plain": [
       "<Figure size 432x288 with 1 Axes>"
      ]
     },
     "metadata": {
      "needs_background": "light"
     },
     "output_type": "display_data"
    }
   ],
   "source": [
    "import matplotlib.pyplot as plt\n",
    "%matplotlib inline\n",
    "\n",
    "image_index = 7777 \n",
    "print(y_train[image_index]) \n",
    "plt.imshow(X_train[image_index], cmap='Greys')"
   ]
  },
  {
   "cell_type": "code",
   "execution_count": 10,
   "metadata": {
    "execution": {
     "iopub.execute_input": "2021-01-15T06:23:35.094829Z",
     "iopub.status.busy": "2021-01-15T06:23:35.093149Z",
     "iopub.status.idle": "2021-01-15T06:23:35.230161Z",
     "shell.execute_reply": "2021-01-15T06:23:35.230632Z"
    },
    "papermill": {
     "duration": 0.171194,
     "end_time": "2021-01-15T06:23:35.230824",
     "exception": false,
     "start_time": "2021-01-15T06:23:35.059630",
     "status": "completed"
    },
    "tags": []
   },
   "outputs": [
    {
     "name": "stdout",
     "output_type": "stream",
     "text": [
      "9\n"
     ]
    },
    {
     "data": {
      "text/plain": [
       "<matplotlib.image.AxesImage at 0x7fb808e0fbd0>"
      ]
     },
     "execution_count": 10,
     "metadata": {},
     "output_type": "execute_result"
    },
    {
     "data": {
      "image/png": "[encoded data removed]",
      "text/plain": [
       "<Figure size 432x288 with 1 Axes>"
      ]
     },
     "metadata": {
      "needs_background": "light"
     },
     "output_type": "display_data"
    }
   ],
   "source": [
    "image_index=5999\n",
    "print(y_train[image_index])\n",
    "plt.imshow(X_train[image_index],cmap='pink')"
   ]
  },
  {
   "cell_type": "markdown",
   "metadata": {
    "papermill": {
     "duration": 0.020649,
     "end_time": "2021-01-15T06:23:35.273570",
     "exception": false,
     "start_time": "2021-01-15T06:23:35.252921",
     "status": "completed"
    },
    "tags": []
   },
   "source": [
    " Reshaping the data arrays to have a single colour channel."
   ]
  },
  {
   "cell_type": "code",
   "execution_count": 11,
   "metadata": {
    "execution": {
     "iopub.execute_input": "2021-01-15T06:23:35.322329Z",
     "iopub.status.busy": "2021-01-15T06:23:35.321338Z",
     "iopub.status.idle": "2021-01-15T06:23:35.325225Z",
     "shell.execute_reply": "2021-01-15T06:23:35.324616Z"
    },
    "papermill": {
     "duration": 0.030467,
     "end_time": "2021-01-15T06:23:35.325350",
     "exception": false,
     "start_time": "2021-01-15T06:23:35.294883",
     "status": "completed"
    },
    "tags": []
   },
   "outputs": [],
   "source": [
    "X_train = X_train.reshape(X_train.shape[0],28,28,1)\n",
    "X_test = X_test.reshape(X_test.shape[0],28,28,1) "
   ]
  },
  {
   "cell_type": "markdown",
   "metadata": {
    "papermill": {
     "duration": 0.023264,
     "end_time": "2021-01-15T06:23:35.370030",
     "exception": false,
     "start_time": "2021-01-15T06:23:35.346766",
     "status": "completed"
    },
    "tags": []
   },
   "source": [
    "There are 10 classes which are represented as unique integers. We can, therefore, use a one hot encoding for the class element of each sample, transforming the integer into a 10 element binary vector with a 1 for the index of the class value, and 0 values for all other classes. We can achieve this with the to_categorical() utility function."
   ]
  },
  {
   "cell_type": "code",
   "execution_count": 12,
   "metadata": {
    "execution": {
     "iopub.execute_input": "2021-01-15T06:23:35.419486Z",
     "iopub.status.busy": "2021-01-15T06:23:35.418474Z",
     "iopub.status.idle": "2021-01-15T06:23:35.423647Z",
     "shell.execute_reply": "2021-01-15T06:23:35.423104Z"
    },
    "papermill": {
     "duration": 0.032591,
     "end_time": "2021-01-15T06:23:35.423765",
     "exception": false,
     "start_time": "2021-01-15T06:23:35.391174",
     "status": "completed"
    },
    "tags": []
   },
   "outputs": [],
   "source": [
    "\n",
    "# one hot encode target values\n",
    "y_train = tf.keras.utils.to_categorical(y_train)\n",
    "y_test = tf.keras.utils.to_categorical(y_test)\n"
   ]
  },
  {
   "cell_type": "markdown",
   "metadata": {
    "papermill": {
     "duration": 0.020809,
     "end_time": "2021-01-15T06:23:35.465750",
     "exception": false,
     "start_time": "2021-01-15T06:23:35.444941",
     "status": "completed"
    },
    "tags": []
   },
   "source": [
    "*This function returns a matrix of binary values(either 0 or 1). It has number of rows equal to the length of the input vector and number of columns equal to the  number of classes.*"
   ]
  },
  {
   "cell_type": "code",
   "execution_count": 13,
   "metadata": {
    "execution": {
     "iopub.execute_input": "2021-01-15T06:23:35.513967Z",
     "iopub.status.busy": "2021-01-15T06:23:35.513154Z",
     "iopub.status.idle": "2021-01-15T06:23:35.516810Z",
     "shell.execute_reply": "2021-01-15T06:23:35.516331Z"
    },
    "papermill": {
     "duration": 0.030026,
     "end_time": "2021-01-15T06:23:35.516924",
     "exception": false,
     "start_time": "2021-01-15T06:23:35.486898",
     "status": "completed"
    },
    "tags": []
   },
   "outputs": [
    {
     "name": "stdout",
     "output_type": "stream",
     "text": [
      "(60000, 10)\n",
      "(10000, 10)\n"
     ]
    }
   ],
   "source": [
    "print(y_train.shape)\n",
    "print(y_test.shape)"
   ]
  },
  {
   "cell_type": "markdown",
   "metadata": {
    "papermill": {
     "duration": 0.021245,
     "end_time": "2021-01-15T06:23:35.559853",
     "exception": false,
     "start_time": "2021-01-15T06:23:35.538608",
     "status": "completed"
    },
    "tags": []
   },
   "source": [
    "To normalize the pixel values of grayscale images, we rescale them to the range 0 to 1. \n",
    "This involves first converting the data type from unsigned integers to floats, then dividing the pixel values by the maximum value i.e. 255 (as the maximum RGB values ranges from 0 to 256.)"
   ]
  },
  {
   "cell_type": "code",
   "execution_count": 14,
   "metadata": {
    "execution": {
     "iopub.execute_input": "2021-01-15T06:23:35.610299Z",
     "iopub.status.busy": "2021-01-15T06:23:35.608500Z",
     "iopub.status.idle": "2021-01-15T06:23:35.711226Z",
     "shell.execute_reply": "2021-01-15T06:23:35.710615Z"
    },
    "papermill": {
     "duration": 0.129522,
     "end_time": "2021-01-15T06:23:35.711353",
     "exception": false,
     "start_time": "2021-01-15T06:23:35.581831",
     "status": "completed"
    },
    "tags": []
   },
   "outputs": [],
   "source": [
    "# Converting integer to  float so that we can get decimal points after division\n",
    "X_train = X_train.astype('float32')\n",
    "X_test = X_test.astype('float32')"
   ]
  },
  {
   "cell_type": "code",
   "execution_count": 15,
   "metadata": {
    "execution": {
     "iopub.execute_input": "2021-01-15T06:23:35.762421Z",
     "iopub.status.busy": "2021-01-15T06:23:35.760835Z",
     "iopub.status.idle": "2021-01-15T06:23:35.892228Z",
     "shell.execute_reply": "2021-01-15T06:23:35.891574Z"
    },
    "papermill": {
     "duration": 0.158972,
     "end_time": "2021-01-15T06:23:35.892366",
     "exception": false,
     "start_time": "2021-01-15T06:23:35.733394",
     "status": "completed"
    },
    "tags": []
   },
   "outputs": [],
   "source": [
    "#Normalizing the RGB codes by dividing it by 255 to convert into  0 and 1\n",
    "X_train = X_train/255\n",
    "X_test = X_test/255"
   ]
  },
  {
   "cell_type": "code",
   "execution_count": 16,
   "metadata": {
    "execution": {
     "iopub.execute_input": "2021-01-15T06:23:35.941807Z",
     "iopub.status.busy": "2021-01-15T06:23:35.940910Z",
     "iopub.status.idle": "2021-01-15T06:23:35.945666Z",
     "shell.execute_reply": "2021-01-15T06:23:35.946115Z"
    },
    "papermill": {
     "duration": 0.032032,
     "end_time": "2021-01-15T06:23:35.946343",
     "exception": false,
     "start_time": "2021-01-15T06:23:35.914311",
     "status": "completed"
    },
    "tags": []
   },
   "outputs": [
    {
     "name": "stdout",
     "output_type": "stream",
     "text": [
      "X_train shape: (60000, 28, 28, 1)\n",
      "Number of images in X_train 60000\n",
      "Number of images in X_test 10000\n"
     ]
    }
   ],
   "source": [
    "print('X_train shape:', X_train.shape)\n",
    "print('Number of images in X_train', X_train.shape[0])\n",
    "print('Number of images in X_test', X_test.shape[0])"
   ]
  },
  {
   "cell_type": "code",
   "execution_count": 17,
   "metadata": {
    "execution": {
     "iopub.execute_input": "2021-01-15T06:23:35.997936Z",
     "iopub.status.busy": "2021-01-15T06:23:35.997244Z",
     "iopub.status.idle": "2021-01-15T06:23:36.000613Z",
     "shell.execute_reply": "2021-01-15T06:23:36.000101Z"
    },
    "papermill": {
     "duration": 0.031636,
     "end_time": "2021-01-15T06:23:36.000739",
     "exception": false,
     "start_time": "2021-01-15T06:23:35.969103",
     "status": "completed"
    },
    "tags": []
   },
   "outputs": [],
   "source": [
    "# Defining CNN model\n",
    "# Importing the required Keras modules containing model and layers\n",
    "from tensorflow.keras.models import Sequential\n",
    "from tensorflow.keras.layers import Dense, Conv2D, Dropout, Flatten, MaxPooling2D"
   ]
  },
  {
   "cell_type": "code",
   "execution_count": 18,
   "metadata": {
    "execution": {
     "iopub.execute_input": "2021-01-15T06:23:36.055106Z",
     "iopub.status.busy": "2021-01-15T06:23:36.053901Z",
     "iopub.status.idle": "2021-01-15T06:23:36.399809Z",
     "shell.execute_reply": "2021-01-15T06:23:36.399239Z"
    },
    "papermill": {
     "duration": 0.375688,
     "end_time": "2021-01-15T06:23:36.399951",
     "exception": false,
     "start_time": "2021-01-15T06:23:36.024263",
     "status": "completed"
    },
    "tags": []
   },
   "outputs": [],
   "source": [
    "# Creating a Sequential Model and adding the layers\n",
    "model=Sequential()\n",
    "model.add(Conv2D(32, (3, 3), activation='relu', kernel_initializer='he_uniform', input_shape=(28, 28, 1)))\n",
    "model.add(MaxPooling2D((2, 2)))\n",
    "model.add(Flatten())\n",
    "model.add(Dense(100, activation='relu', kernel_initializer='he_uniform'))\n",
    "model.add(Dense(10, activation='softmax'))"
   ]
  },
  {
   "cell_type": "code",
   "execution_count": 19,
   "metadata": {
    "execution": {
     "iopub.execute_input": "2021-01-15T06:23:36.451548Z",
     "iopub.status.busy": "2021-01-15T06:23:36.450887Z",
     "iopub.status.idle": "2021-01-15T06:27:08.338118Z",
     "shell.execute_reply": "2021-01-15T06:27:08.337577Z"
    },
    "papermill": {
     "duration": 211.915841,
     "end_time": "2021-01-15T06:27:08.338283",
     "exception": false,
     "start_time": "2021-01-15T06:23:36.422442",
     "status": "completed"
    },
    "tags": []
   },
   "outputs": [
    {
     "name": "stdout",
     "output_type": "stream",
     "text": [
      "Epoch 1/10\n",
      "1875/1875 [==============================] - 21s 11ms/step - loss: 0.1695 - accuracy: 0.9486\n",
      "Epoch 2/10\n",
      "1875/1875 [==============================] - 21s 11ms/step - loss: 0.0581 - accuracy: 0.9828\n",
      "Epoch 3/10\n",
      "1875/1875 [==============================] - 21s 11ms/step - loss: 0.0373 - accuracy: 0.9887\n",
      "Epoch 4/10\n",
      "1875/1875 [==============================] - 21s 11ms/step - loss: 0.0266 - accuracy: 0.9919\n",
      "Epoch 5/10\n",
      "1875/1875 [==============================] - 21s 11ms/step - loss: 0.0180 - accuracy: 0.9945\n",
      "Epoch 6/10\n",
      "1875/1875 [==============================] - 21s 11ms/step - loss: 0.0124 - accuracy: 0.9963\n",
      "Epoch 7/10\n",
      "1875/1875 [==============================] - 22s 12ms/step - loss: 0.0088 - accuracy: 0.9976\n",
      "Epoch 8/10\n",
      "1875/1875 [==============================] - 21s 11ms/step - loss: 0.0063 - accuracy: 0.9984\n",
      "Epoch 9/10\n",
      "1875/1875 [==============================] - 21s 11ms/step - loss: 0.0043 - accuracy: 0.9990\n",
      "Epoch 10/10\n",
      "1875/1875 [==============================] - 21s 11ms/step - loss: 0.0026 - accuracy: 0.9997\n"
     ]
    },
    {
     "data": {
      "text/plain": [
       "<tensorflow.python.keras.callbacks.History at 0x7fb808d5a950>"
      ]
     },
     "execution_count": 19,
     "metadata": {},
     "output_type": "execute_result"
    }
   ],
   "source": [
    "# compiling model using Stochastic Gradient Descent algorithm as optimizer\n",
    "from keras.optimizers import SGD\n",
    "opt = SGD(lr=0.01, momentum=0.9)# where learning rate is specified as lr (default is 0.01)\n",
    "model.compile(optimizer=opt, loss='categorical_crossentropy', metrics=['accuracy'])\n",
    "model.fit(x=X_train,y=y_train, epochs=10)"
   ]
  },
  {
   "cell_type": "code",
   "execution_count": 20,
   "metadata": {
    "execution": {
     "iopub.execute_input": "2021-01-15T06:27:10.627117Z",
     "iopub.status.busy": "2021-01-15T06:27:10.373601Z",
     "iopub.status.idle": "2021-01-15T06:30:38.761319Z",
     "shell.execute_reply": "2021-01-15T06:30:38.762002Z"
    },
    "papermill": {
     "duration": 209.371656,
     "end_time": "2021-01-15T06:30:38.762246",
     "exception": false,
     "start_time": "2021-01-15T06:27:09.390590",
     "status": "completed"
    },
    "tags": []
   },
   "outputs": [
    {
     "name": "stdout",
     "output_type": "stream",
     "text": [
      "Epoch 1/10\n",
      "1875/1875 [==============================] - 21s 11ms/step - loss: 0.0425 - accuracy: 0.9861\n",
      "Epoch 2/10\n",
      "1875/1875 [==============================] - 21s 11ms/step - loss: 0.0229 - accuracy: 0.9926\n",
      "Epoch 3/10\n",
      "1875/1875 [==============================] - 21s 11ms/step - loss: 0.0164 - accuracy: 0.9947\n",
      "Epoch 4/10\n",
      "1875/1875 [==============================] - 21s 11ms/step - loss: 0.0124 - accuracy: 0.9955\n",
      "Epoch 5/10\n",
      "1875/1875 [==============================] - 21s 11ms/step - loss: 0.0086 - accuracy: 0.9969\n",
      "Epoch 6/10\n",
      "1875/1875 [==============================] - 21s 11ms/step - loss: 0.0070 - accuracy: 0.9977\n",
      "Epoch 7/10\n",
      "1875/1875 [==============================] - 20s 11ms/step - loss: 0.0061 - accuracy: 0.9980\n",
      "Epoch 8/10\n",
      "1875/1875 [==============================] - 21s 11ms/step - loss: 0.0053 - accuracy: 0.9983\n",
      "Epoch 9/10\n",
      "1875/1875 [==============================] - 20s 11ms/step - loss: 0.0047 - accuracy: 0.9983\n",
      "Epoch 10/10\n",
      "1875/1875 [==============================] - 20s 11ms/step - loss: 0.0035 - accuracy: 0.9989\n"
     ]
    },
    {
     "data": {
      "text/plain": [
       "<tensorflow.python.keras.callbacks.History at 0x7fb808b3ead0>"
      ]
     },
     "execution_count": 20,
     "metadata": {},
     "output_type": "execute_result"
    }
   ],
   "source": [
    "#using adam optimizer\n",
    "model.compile(optimizer='adam', loss='categorical_crossentropy', metrics=['accuracy'])\n",
    "model.fit(x=X_train,y=y_train,epochs=10)"
   ]
  },
  {
   "cell_type": "code",
   "execution_count": 21,
   "metadata": {
    "execution": {
     "iopub.execute_input": "2021-01-15T06:30:42.662461Z",
     "iopub.status.busy": "2021-01-15T06:30:42.661367Z",
     "iopub.status.idle": "2021-01-15T06:30:44.252289Z",
     "shell.execute_reply": "2021-01-15T06:30:44.252828Z"
    },
    "papermill": {
     "duration": 3.512383,
     "end_time": "2021-01-15T06:30:44.253037",
     "exception": false,
     "start_time": "2021-01-15T06:30:40.740654",
     "status": "completed"
    },
    "tags": []
   },
   "outputs": [
    {
     "name": "stdout",
     "output_type": "stream",
     "text": [
      "313/313 [==============================] - 1s 4ms/step - loss: 0.0655 - accuracy: 0.9866\n"
     ]
    },
    {
     "data": {
      "text/plain": [
       "[0.0654664933681488, 0.9865999817848206]"
      ]
     },
     "execution_count": 21,
     "metadata": {},
     "output_type": "execute_result"
    }
   ],
   "source": [
    "model.evaluate(X_test,y_test)"
   ]
  },
  {
   "cell_type": "markdown",
   "metadata": {
    "papermill": {
     "duration": 1.9586,
     "end_time": "2021-01-15T06:30:48.136930",
     "exception": false,
     "start_time": "2021-01-15T06:30:46.178330",
     "status": "completed"
    },
    "tags": []
   },
   "source": [
    "Model shows 98.5% accuracy."
   ]
  },
  {
   "cell_type": "markdown",
   "metadata": {
    "papermill": {
     "duration": 1.897849,
     "end_time": "2021-01-15T06:30:51.931721",
     "exception": false,
     "start_time": "2021-01-15T06:30:50.033872",
     "status": "completed"
    },
    "tags": []
   },
   "source": [
    "Now, testing our model on test data- Few examples are as follows:"
   ]
  },
  {
   "cell_type": "code",
   "execution_count": 22,
   "metadata": {
    "execution": {
     "iopub.execute_input": "2021-01-15T06:30:55.966371Z",
     "iopub.status.busy": "2021-01-15T06:30:55.965694Z",
     "iopub.status.idle": "2021-01-15T06:30:56.260945Z",
     "shell.execute_reply": "2021-01-15T06:30:56.260323Z"
    },
    "papermill": {
     "duration": 2.273299,
     "end_time": "2021-01-15T06:30:56.261128",
     "exception": false,
     "start_time": "2021-01-15T06:30:53.987829",
     "status": "completed"
    },
    "tags": []
   },
   "outputs": [
    {
     "name": "stdout",
     "output_type": "stream",
     "text": [
      "7\n"
     ]
    },
    {
     "data": {
      "image/png": "[encoded data removed]",
      "text/plain": [
       "<Figure size 432x288 with 1 Axes>"
      ]
     },
     "metadata": {
      "needs_background": "light"
     },
     "output_type": "display_data"
    }
   ],
   "source": [
    "image_index = 4474\n",
    "plt.imshow(X_test[image_index].reshape(28, 28),cmap='Greys') \n",
    "pred = model.predict(X_test[image_index].reshape(1, 28, 28, 1))\n",
    "print(pred.argmax())"
   ]
  },
  {
   "cell_type": "markdown",
   "metadata": {
    "papermill": {
     "duration": 2.048657,
     "end_time": "2021-01-15T06:31:00.450147",
     "exception": false,
     "start_time": "2021-01-15T06:30:58.401490",
     "status": "completed"
    },
    "tags": []
   },
   "source": [
    "At image index 4474, the image is of value 7 and our model correctly predicted it as 7."
   ]
  },
  {
   "cell_type": "code",
   "execution_count": 23,
   "metadata": {
    "execution": {
     "iopub.execute_input": "2021-01-15T06:31:04.412538Z",
     "iopub.status.busy": "2021-01-15T06:31:04.411432Z",
     "iopub.status.idle": "2021-01-15T06:31:04.603379Z",
     "shell.execute_reply": "2021-01-15T06:31:04.603894Z"
    },
    "papermill": {
     "duration": 2.159546,
     "end_time": "2021-01-15T06:31:04.604082",
     "exception": false,
     "start_time": "2021-01-15T06:31:02.444536",
     "status": "completed"
    },
    "tags": []
   },
   "outputs": [
    {
     "name": "stdout",
     "output_type": "stream",
     "text": [
      "1\n"
     ]
    },
    {
     "data": {
      "image/png": "[encoded data removed]",
      "text/plain": [
       "<Figure size 432x288 with 1 Axes>"
      ]
     },
     "metadata": {
      "needs_background": "light"
     },
     "output_type": "display_data"
    }
   ],
   "source": [
    "image_index = 2\n",
    "plt.imshow(X_test[image_index].reshape(28, 28),cmap='Purples')\n",
    "pred = model.predict(X_test[image_index].reshape(1, 28, 28, 1))\n",
    "print(pred.argmax())"
   ]
  },
  {
   "cell_type": "markdown",
   "metadata": {
    "papermill": {
     "duration": 1.964738,
     "end_time": "2021-01-15T06:31:08.539952",
     "exception": false,
     "start_time": "2021-01-15T06:31:06.575214",
     "status": "completed"
    },
    "tags": []
   },
   "source": [
    "Similarly, at image index position 2, the value present is 1 and it is correctly predicted."
   ]
  },
  {
   "cell_type": "code",
   "execution_count": 24,
   "metadata": {
    "execution": {
     "iopub.execute_input": "2021-01-15T06:31:12.530951Z",
     "iopub.status.busy": "2021-01-15T06:31:12.529773Z",
     "iopub.status.idle": "2021-01-15T06:31:12.712965Z",
     "shell.execute_reply": "2021-01-15T06:31:12.713554Z"
    },
    "papermill": {
     "duration": 2.144433,
     "end_time": "2021-01-15T06:31:12.713732",
     "exception": false,
     "start_time": "2021-01-15T06:31:10.569299",
     "status": "completed"
    },
    "tags": []
   },
   "outputs": [
    {
     "name": "stdout",
     "output_type": "stream",
     "text": [
      "3\n"
     ]
    },
    {
     "data": {
      "image/png": "[encoded data removed]",
      "text/plain": [
       "<Figure size 432x288 with 1 Axes>"
      ]
     },
     "metadata": {
      "needs_background": "light"
     },
     "output_type": "display_data"
    }
   ],
   "source": [
    "image_index = 5000\n",
    "plt.imshow(X_test[image_index].reshape(28, 28),cmap='bone')\n",
    "pred = model.predict(X_test[image_index].reshape(1, 28, 28, 1))\n",
    "print(pred.argmax())"
   ]
  },
  {
   "cell_type": "markdown",
   "metadata": {
    "papermill": {
     "duration": 2.034133,
     "end_time": "2021-01-15T06:31:16.687377",
     "exception": false,
     "start_time": "2021-01-15T06:31:14.653244",
     "status": "completed"
    },
    "tags": []
   },
   "source": [
    "At image index position 5000, the value present is 3 which is correctly predicted."
   ]
  }
 ],
 "metadata": {
  "kernelspec": {
   "display_name": "Python 3",
   "language": "python",
   "name": "python3"
  },
  "language_info": {
   "codemirror_mode": {
    "name": "ipython",
    "version": 3
   },
   "file_extension": ".py",
   "mimetype": "text/x-python",
   "name": "python",
   "nbconvert_exporter": "python",
   "pygments_lexer": "ipython3",
   "version": "3.7.6"
  },
  "papermill": {
   "duration": 482.623151,
   "end_time": "2021-01-15T06:31:18.688904",
   "environment_variables": {},
   "exception": null,
   "input_path": "__notebook__.ipynb",
   "output_path": "__notebook__.ipynb",
   "parameters": {},
   "start_time": "2021-01-15T06:23:16.065753",
   "version": "2.1.0"
  }
 },
 "nbformat": 4,
 "nbformat_minor": 4
}
